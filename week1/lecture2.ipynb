{
 "cells": [
  {
   "cell_type": "code",
   "execution_count": 1,
   "metadata": {},
   "outputs": [
    {
     "name": "stdout",
     "output_type": "stream",
     "text": [
      "4\n",
      "4\n",
      "5\n",
      "-1\n",
      "6\n",
      "0.6666666666666666\n",
      "0\n",
      "2\n",
      "208\n"
     ]
    }
   ],
   "source": [
    "# expression\n",
    "from operator import add, sub, mul, truediv, floordiv, mod\n",
    "\n",
    "print(max(2, 4))\n",
    "print(max(2, max(2, 4)))\n",
    "\n",
    "print(add(2, 3))\n",
    "print(sub(2, 3))\n",
    "print(mul(2, 3))\n",
    "print(truediv(2, 3))\n",
    "print(floordiv(2, 3))\n",
    "print(mod(2, 3))\n",
    "\n",
    "print(mul(add(2, mul(4, 6)), add(3, 5)))"
   ]
  },
  {
   "cell_type": "code",
   "execution_count": 2,
   "metadata": {},
   "outputs": [
    {
     "name": "stdout",
     "output_type": "stream",
     "text": [
      "3.141592653589793\n",
      "1.0\n",
      "10\n",
      "20\n",
      "314.1592653589793 62.83185307179586\n",
      "[1, 2, 3]\n",
      "314.1592653589793 62.83185307179586\n",
      "3\n",
      "3\n",
      "7\n",
      "3\n"
     ]
    }
   ],
   "source": [
    "# names assignment\n",
    "from math import pi, sin\n",
    "\n",
    "\n",
    "# pi sin 都是编程语言内置的，也就是 built-in names 和 built-in functions\n",
    "print(pi)\n",
    "print(sin(pi / 2))\n",
    "\n",
    "# 可以使用自定义的\n",
    "\n",
    "radius = 10\n",
    "print(radius)\n",
    "print(radius * 2)\n",
    "area, circ = pi * radius * radius, 2 * pi * radius\n",
    "print(area, circ)\n",
    "\n",
    "radius = [1, 2, 3]\n",
    "print(radius)\n",
    "# radius 改变了，但是 area、circ 并没有改变，也就是说 bind 绑定了比不会动态改变\n",
    "print(area, circ)\n",
    "\n",
    "\n",
    "f = max\n",
    "print(f(1, 2, 3))\n",
    "max = 7\n",
    "print(f(1, 2, 3))  # max 被绑定了 7 后，但 f 并没有失去绑定的函数\n",
    "print(f(1, 2, max))\n",
    "\n",
    "max = f\n",
    "print(max(1, 2, 3))"
   ]
  },
  {
   "cell_type": "code",
   "execution_count": 3,
   "metadata": {},
   "outputs": [
    {
     "name": "stdout",
     "output_type": "stream",
     "text": [
      "4\n",
      "49\n",
      "81\n",
      "25\n"
     ]
    }
   ],
   "source": [
    "# user-defined functions\n",
    "\n",
    "\n",
    "def square(x):\n",
    "    return mul(x, x)\n",
    "\n",
    "\n",
    "print(square(2))\n",
    "print(square(add(3, 4)))\n",
    "print(square(square(3)))\n",
    "\n",
    "\n",
    "def sum_square(x, y):\n",
    "    return add(square(x), square(y))\n",
    "\n",
    "\n",
    "print(sum_square(3, 4))"
   ]
  },
  {
   "cell_type": "code",
   "execution_count": 4,
   "metadata": {},
   "outputs": [
    {
     "data": {
      "text/plain": [
       "3"
      ]
     },
     "execution_count": 4,
     "metadata": {},
     "output_type": "execute_result"
    }
   ],
   "source": [
    "f = min\n",
    "f = max\n",
    "g, h = min, max\n",
    "max = g\n",
    "max(f(2, g(h(1, 5), 3)), 4)  # 3"
   ]
  },
  {
   "cell_type": "code",
   "execution_count": 5,
   "metadata": {},
   "outputs": [
    {
     "name": "stdout",
     "output_type": "stream",
     "text": [
      "2 3\n"
     ]
    }
   ],
   "source": [
    "a = 1\n",
    "b = 2\n",
    "b, a = a + b, b\n",
    "print(a, b)"
   ]
  },
  {
   "cell_type": "code",
   "execution_count": 16,
   "metadata": {},
   "outputs": [
    {
     "name": "stdout",
     "output_type": "stream",
     "text": [
      "3 4 2\n",
      "1\n"
     ]
    }
   ],
   "source": [
    "x = 1\n",
    "z = 2\n",
    "\n",
    "\n",
    "def f(y):\n",
    "    x = 3\n",
    "    print(x, y, z)\n",
    "\n",
    "\n",
    "f(4)\n",
    "print(x)"
   ]
  },
  {
   "cell_type": "code",
   "execution_count": null,
   "metadata": {},
   "outputs": [],
   "source": []
  },
  {
   "cell_type": "code",
   "execution_count": 15,
   "metadata": {},
   "outputs": [
    {
     "name": "stdout",
     "output_type": "stream",
     "text": [
      "100\n",
      "100\n",
      "1\n",
      "20\n"
     ]
    }
   ],
   "source": [
    "x = 1\n",
    "y = 2\n",
    "\n",
    "\n",
    "def outer():\n",
    "    x = 10\n",
    "\n",
    "    def inner():\n",
    "        global y\n",
    "        y = 20\n",
    "        nonlocal x\n",
    "        x = 100\n",
    "        print(x)\n",
    "\n",
    "    inner()\n",
    "    print(x)\n",
    "\n",
    "\n",
    "outer()\n",
    "print(x)\n",
    "print(y)"
   ]
  }
 ],
 "metadata": {
  "kernelspec": {
   "display_name": "Python 3",
   "language": "python",
   "name": "python3"
  },
  "language_info": {
   "codemirror_mode": {
    "name": "ipython",
    "version": 3
   },
   "file_extension": ".py",
   "mimetype": "text/x-python",
   "name": "python",
   "nbconvert_exporter": "python",
   "pygments_lexer": "ipython3",
   "version": "3.13.2"
  }
 },
 "nbformat": 4,
 "nbformat_minor": 4
}
